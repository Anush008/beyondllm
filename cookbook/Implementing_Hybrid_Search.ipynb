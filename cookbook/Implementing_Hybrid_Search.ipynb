{
  "cells": [
    {
      "cell_type": "code",
      "execution_count": null,
      "metadata": {
        "id": "2xV8PX6BiXKA"
      },
      "outputs": [],
      "source": [
        "!pip install beyondllm"
      ]
    },
    {
      "cell_type": "code",
      "execution_count": 2,
      "metadata": {
        "id": "c9khYfPSnw3z"
      },
      "outputs": [],
      "source": [
        "from beyondllm import source,retrieve,embeddings,llms,generator\n",
        "import os\n",
        "from getpass import getpass\n",
        "os.environ['OPENAI_API_KEY'] = getpass(\"Your OPENAI_API_KEY:\")\n",
        "\n",
        "data = source.fit(\"/content/build-career-in-ai.pdf\",dtype=\"pdf\",chunk_size=1024,chunk_overlap=0)\n",
        "embed_model = embeddings.OpenAIEmbeddings()"
      ]
    },
    {
      "cell_type": "code",
      "execution_count": 3,
      "metadata": {
        "id": "2osVBX7ZnwQ0"
      },
      "outputs": [],
      "source": [
        "from beyondllm.retrieve import auto_retriever\n",
        "\n",
        "retriever = auto_retriever(\n",
        "    data=data,\n",
        "    embed_model=embed_model,\n",
        "    type=\"hybrid\",\n",
        "    top_k=5,\n",
        "    mode=\"OR\"\n",
        ")"
      ]
    },
    {
      "cell_type": "code",
      "execution_count": 5,
      "metadata": {
        "colab": {
          "base_uri": "https://localhost:8080/"
        },
        "id": "mKbyiLzlichh",
        "outputId": "b883edfb-3eac-4206-fc81-97db13340bf1"
      },
      "outputs": [
        {
          "name": "stdout",
          "output_type": "stream",
          "text": [
            "LLM is explicitly disabled. Using MockLLM.\n",
            "To get into AI, you can follow these steps outlined in the provided context:\n",
            "\n",
            "1. **Learning Foundational Skills**: Focus on mastering foundational technical skills in machine learning such as models like linear regression, neural networks, decision trees, and concepts like bias/variance, cost functions, and regularization.\n",
            "  \n",
            "2. **Deep Learning**: Gain understanding in deep learning which includes neural networks, hyperparameter tuning, convolutional networks, and sequence models.\n",
            "\n",
            "3. **Software Development**: Enhance your skills in software development to implement complex AI systems effectively, including programming fundamentals, data structures, algorithms, software design, and familiarity with key libraries such as TensorFlow or PyTorch.\n",
            "\n",
            "4. **Math Relevant to Machine Learning**: Build a strong foundation in mathematics such as linear algebra, probability and statistics, and basics of calculus as they are essential for a successful career in AI.\n",
            "\n",
            "5. **Find Projects**: Engage in meaningful projects by identifying business problems, brainstorming AI solutions, and gradually expanding the scope and impact of your work.\n",
            "\n",
            "6. **Get Involved in the Community**: Build a network of supportive friends and allies who can provide guidance, knowledge, and referral opportunities.\n",
            "\n",
            "By following these steps effectively, you can embark on a promising career in AI.\n"
          ]
        }
      ],
      "source": [
        "llm = llms.ChatOpenAIModel()\n",
        "pipeline = generator.Generate(question=\"How to get into AI?\",retriever=retriever,llm=llm)\n",
        "\n",
        "print(pipeline.call()) #AI response"
      ]
    },
    {
      "cell_type": "code",
      "execution_count": null,
      "metadata": {
        "id": "sm2r15bepLAy"
      },
      "outputs": [],
      "source": []
    }
  ],
  "metadata": {
    "colab": {
      "provenance": []
    },
    "kernelspec": {
      "display_name": "Python 3",
      "name": "python3"
    },
    "language_info": {
      "name": "python"
    }
  },
  "nbformat": 4,
  "nbformat_minor": 0
}
