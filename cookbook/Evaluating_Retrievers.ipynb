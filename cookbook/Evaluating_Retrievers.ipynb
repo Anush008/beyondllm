{
  "cells": [
    {
      "cell_type": "code",
      "execution_count": null,
      "metadata": {
        "id": "2xV8PX6BiXKA"
      },
      "outputs": [],
      "source": [
        "!pip install beyondllm"
      ]
    },
    {
      "cell_type": "code",
      "execution_count": 2,
      "metadata": {
        "id": "c9khYfPSnw3z"
      },
      "outputs": [],
      "source": [
        "from beyondllm import source,retrieve,embeddings,llms,generator\n",
        "import os\n",
        "from getpass import getpass\n",
        "os.environ['OPENAI_API_KEY'] = getpass(\"Your OPENAI_API_KEY:\")\n",
        "\n",
        "data = source.fit(\"/content/build-career-in-ai.pdf\",dtype=\"pdf\",chunk_size=1024,chunk_overlap=0)\n",
        "embed_model = embeddings.OpenAIEmbeddings()"
      ]
    },
    {
      "cell_type": "code",
      "execution_count": 9,
      "metadata": {
        "id": "2osVBX7ZnwQ0"
      },
      "outputs": [],
      "source": [
        "from beyondllm.retrieve import auto_retriever\n",
        "retriever = auto_retriever(data,embed_model,type=\"normal\",top_k=4)"
      ]
    },
    {
      "cell_type": "code",
      "execution_count": 11,
      "metadata": {
        "id": "yzzHx37aq6Co"
      },
      "outputs": [],
      "source": [
        "llm = llms.ChatOpenAIModel()"
      ]
    },
    {
      "cell_type": "code",
      "execution_count": 13,
      "metadata": {
        "colab": {
          "base_uri": "https://localhost:8080/"
        },
        "id": "QUUVwemjq5Y5",
        "outputId": "8a03716e-d60a-4c13-d932-cea3c294f4c3"
      },
      "outputs": [
        {
          "name": "stdout",
          "output_type": "stream",
          "text": [
            "LLM is explicitly disabled. Using MockLLM.\n",
            "Generating QA dataset....\n"
          ]
        },
        {
          "name": "stderr",
          "output_type": "stream",
          "text": [
            "100%|██████████| 41/41 [01:25<00:00,  2.08s/it]\n"
          ]
        }
      ],
      "source": [
        "results = retriever.evaluate(llm)"
      ]
    },
    {
      "cell_type": "code",
      "execution_count": 18,
      "metadata": {
        "colab": {
          "base_uri": "https://localhost:8080/",
          "height": 35
        },
        "id": "5aE0dh00q9e5",
        "outputId": "d5bf3b5b-c55b-48ea-e9cf-aea8d7b6cc3c"
      },
      "outputs": [
        {
          "data": {
            "application/vnd.google.colaboratory.intrinsic+json": {
              "type": "string"
            },
            "text/plain": [
              "'Hit_rate:0.926829268292683\\nMRR:0.8008130081300812'"
            ]
          },
          "execution_count": 18,
          "metadata": {},
          "output_type": "execute_result"
        }
      ],
      "source": [
        "results"
      ]
    },
    {
      "cell_type": "code",
      "execution_count": null,
      "metadata": {
        "id": "HRdBTGzDsjSV"
      },
      "outputs": [],
      "source": []
    }
  ],
  "metadata": {
    "colab": {
      "provenance": []
    },
    "kernelspec": {
      "display_name": "Python 3",
      "name": "python3"
    },
    "language_info": {
      "name": "python"
    }
  },
  "nbformat": 4,
  "nbformat_minor": 0
}
